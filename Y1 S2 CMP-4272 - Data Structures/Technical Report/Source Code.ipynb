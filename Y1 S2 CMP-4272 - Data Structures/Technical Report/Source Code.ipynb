{
  "nbformat": 4,
  "nbformat_minor": 0,
  "metadata": {
    "colab": {
      "provenance": [],
      "authorship_tag": "ABX9TyNeMk9npLo+7LIkXCWOuWBe",
      "include_colab_link": true
    },
    "kernelspec": {
      "name": "python3",
      "display_name": "Python 3"
    },
    "language_info": {
      "name": "python"
    }
  },
  "cells": [
    {
      "cell_type": "markdown",
      "metadata": {
        "id": "view-in-github",
        "colab_type": "text"
      },
      "source": [
        "<a href=\"https://colab.research.google.com/github/kacp-i/BCU-Work/blob/main/Y1%20S2%20CMP-4272%20-%20Data%20Structures/Technical%20Report/Source%20Code.ipynb\" target=\"_parent\"><img src=\"https://colab.research.google.com/assets/colab-badge.svg\" alt=\"Open In Colab\"/></a>"
      ]
    },
    {
      "cell_type": "code",
      "execution_count": 9,
      "metadata": {
        "id": "het-bCQqKXZd"
      },
      "outputs": [],
      "source": [
        "# Linear Search Algorithm\n",
        "\n",
        "def linearSearch(lookingFor, lookingIn): #grabs what element is to be found and what list is to be looked through\n",
        "  count = 0 #keeps track of index\n",
        "\n",
        "  for elem in lookingIn: #loops through the list provided\n",
        "    if elem == lookingFor: #checks if element being looked at is the one that is being searched for\n",
        "      print(\"Located\",lookingFor,\"at index\",count) #simple print statement\n",
        "    else: #if the number is not found at this index, the index increases\n",
        "      count += 1"
      ]
    },
    {
      "cell_type": "code",
      "source": [
        "# Binary Search Algorithm\n",
        "\n",
        "def binarySearch(lowestIndex, highestIndex, lookingFor, lookingIn): #grabs the range of the list, what element is to be found and what list to look\n",
        "  if highestIndex >= lowestIndex: #checks if the list has elements\n",
        "    middleIndex = (highestIndex + lowestIndex) // 2 #finds the middle point of the list\n",
        "\n",
        "    if lookingIn[middleIndex] == lookingFor: #checks if the middle point is the element that is to be found\n",
        "      print(\"Element\",lookingFor,\"has been found at index\",middleIndex)\n",
        "\n",
        "    elif lookingIn[middleIndex] > lookingFor: #checks if the element is in the lower half\n",
        "      binarySearch(lowestIndex, middleIndex - 1, lookingFor, lookingIn)\n",
        "\n",
        "    else: #looks for the element in the higher half\n",
        "      binarySearch(highestIndex, middleIndex + 1, lookingFor, lookingIn)\n",
        "\n",
        "  else: #print statement to show element isnt in the array\n",
        "    print(\"Element isn't in the array\")"
      ],
      "metadata": {
        "id": "xXe1jLnKLMIz"
      },
      "execution_count": 10,
      "outputs": []
    },
    {
      "cell_type": "code",
      "source": [
        "# Selection Sort Algorithm\n",
        "\n",
        "def selectionSort(lookingIn, listSize): #grabs the list to be sorted and the list size\n",
        "  for elem in range(listSize): #looks at each element in the list\n",
        "    minimumIndex = elem\n",
        "\n",
        "    for sorting in range(elem + 1, listSize):\n",
        "      if lookingIn[sorting] < lookingIn[minimumIndex]: #looks at the lowest number\n",
        "        minimumIndex = sorting\n",
        "    (lookingIn[elem], lookingIn[minimumIndex]) = (lookingIn[minimumIndex], lookingIn[elem]) #swaps elements in the list\n",
        "\n",
        "  print(\"The list in Ascending Order:\")\n",
        "  print(lookingIn)"
      ],
      "metadata": {
        "id": "Ab7jYwTlOipA"
      },
      "execution_count": 11,
      "outputs": []
    },
    {
      "cell_type": "code",
      "source": [
        "# Quick Sort Algorithm\n",
        "\n",
        "def quickSort(lookingIn): #grabs the list to be sorted\n",
        "  if len(lookingIn) <= 1: #checks if list is bigger than 1 element\n",
        "    return lookingIn\n",
        "\n",
        "  else:\n",
        "    pivot = lookingIn[0] #sets the pivot as the 1st element in the list\n",
        "    left = [x for x in lookingIn[1:] if x < pivot] #if element is smaller than pivot go to left\n",
        "    right = [x for x in lookingIn[1:] if x >= pivot] #if element is bigger than / equal to pivot go to right\n",
        "    return quickSort(left) + [pivot] + quickSort(right) #concatinates the split lists and pivot and returns sorted list"
      ],
      "metadata": {
        "id": "Xo7FFhQbRWbz"
      },
      "execution_count": 12,
      "outputs": []
    },
    {
      "cell_type": "code",
      "source": [
        "# Testing Linear Search\n",
        "\n",
        "linList = [1, 5, 2, 7, 3, 19, 10, 42, 81]\n",
        "linearSearch(19, linList) #looking for number 19"
      ],
      "metadata": {
        "colab": {
          "base_uri": "https://localhost:8080/"
        },
        "id": "u3-Hg7oFS8M2",
        "outputId": "d47735db-3ee9-4438-f1e1-6ddf823e23b4"
      },
      "execution_count": 13,
      "outputs": [
        {
          "output_type": "stream",
          "name": "stdout",
          "text": [
            "Located 19 at index 5\n"
          ]
        }
      ]
    },
    {
      "cell_type": "code",
      "source": [
        "# Testing Binary Search\n",
        "\n",
        "binList = [1, 4, 5, 8, 12, 24, 42, 81, 96, 102, 105, 252, 542]\n",
        "binarySearch(0, len(binList) - 1, 42, binList) #looking for number 42"
      ],
      "metadata": {
        "colab": {
          "base_uri": "https://localhost:8080/"
        },
        "id": "fuU29NmUeqjz",
        "outputId": "add3b353-7300-44e4-e348-c1e957e358ee"
      },
      "execution_count": 14,
      "outputs": [
        {
          "output_type": "stream",
          "name": "stdout",
          "text": [
            "Element 42 has been found at index 6\n"
          ]
        }
      ]
    },
    {
      "cell_type": "code",
      "source": [
        "# Testing Selection Sort\n",
        "\n",
        "selList = [17, 0, 1, 28, 11, -3, -2, -11, 91, 704]\n",
        "selectionSort(selList, len(selList))"
      ],
      "metadata": {
        "colab": {
          "base_uri": "https://localhost:8080/"
        },
        "id": "fAbfAm2Aeqde",
        "outputId": "cf3291ed-e16b-4443-8e7a-a12e25039ccb"
      },
      "execution_count": 15,
      "outputs": [
        {
          "output_type": "stream",
          "name": "stdout",
          "text": [
            "The list in Ascending Order:\n",
            "[-11, -3, -2, 0, 1, 11, 17, 28, 91, 704]\n"
          ]
        }
      ]
    },
    {
      "cell_type": "code",
      "source": [
        "# Testing Quick Sort\n",
        "\n",
        "quiList = [2, 17, 11, 19, 31, 32, -11, 27, 18, 4]\n",
        "print(\"The list in Ascending Order\")\n",
        "print(quickSort(quiList))"
      ],
      "metadata": {
        "colab": {
          "base_uri": "https://localhost:8080/"
        },
        "id": "6wHExjIMeqRH",
        "outputId": "16b157df-abd7-4206-c3d1-327345a0f995"
      },
      "execution_count": 16,
      "outputs": [
        {
          "output_type": "stream",
          "name": "stdout",
          "text": [
            "The list in Ascending Order\n",
            "[-11, 2, 4, 11, 17, 18, 19, 27, 31, 32]\n"
          ]
        }
      ]
    }
  ]
}